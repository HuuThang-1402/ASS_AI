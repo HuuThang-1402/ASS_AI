{
 "cells": [
  {
   "cell_type": "code",
   "execution_count": 45,
   "id": "fabecefc",
   "metadata": {},
   "outputs": [],
   "source": [
    "import copy\n",
    "import numpy as np\n",
    "class State:\n",
    "    def __init__(self,data=None,N=5):\n",
    "        self.data=data\n",
    "        self.N=N\n",
    "    def clone(self):\n",
    "        sn=copy.deepcopy(self)\n",
    "        return sn\n",
    "    def Print(self):\n",
    "        sz = self.N\n",
    "        for i in range(sz):\n",
    "            for j in range(sz):\n",
    "                tmp=self.data[i][j]\n",
    "                if tmp==0:\n",
    "                    print(\" 0\",end=\" \")\n",
    "                elif tmp==1:\n",
    "                    print(\" 1\",end=\" \")\n",
    "                else:\n",
    "                    print(\"-1\",end=\" \")\n",
    "            print() \n",
    "        print(\"===============\")"
   ]
  },
  {
   "cell_type": "code",
   "execution_count": 1,
   "id": "6de417a7",
   "metadata": {},
   "outputs": [],
   "source": [
    "check=True\n",
    "\n",
    "class Operate:\n",
    "    def __init__(self,so,des): # source and destination\n",
    "        self.sx=so[0]\n",
    "        self.sy=so[1]\n",
    "        self.dx=des[0]\n",
    "        self.dy=des[1]\n",
    "    def Move(self,s):\n",
    "        sx=self.sx\n",
    "        sy=self.sy\n",
    "        dx=self.dx\n",
    "        dy=self.dy\n",
    "        sz=s.N\n",
    "        if dx<0 or dy>=sz:\n",
    "            return None\n",
    "        if dy<0 or dy>=sz:\n",
    "            return None\n",
    "        sn=s.clone()\n",
    "        global check\n",
    "        if check:\n",
    "            sn.data[dx][dy]=1\n",
    "            sn.data[sx][sy]=0\n",
    "            check=False\n",
    "        else:\n",
    "            sn.data[dx][dy]=-1\n",
    "            sn.data[sx][sy]=0\n",
    "            check=True\n",
    "        return sn"
   ]
  },
  {
   "cell_type": "code",
   "execution_count": 2,
   "id": "7bef62b7",
   "metadata": {},
   "outputs": [],
   "source": [
    "# s = State (data =np.array([[1, 1, 1, 1, 1],\n",
    "#  [1, 0, 0, 0, 1],\n",
    "#  [1, 0, 0, 0, -1],\n",
    "#  [-1, 0, 0, 0, -1],\n",
    "#  [-1, -1, -1, -1, -1]]))\n",
    "# s.Print()\n",
    "# sn = Operate((0,2),(1,2)).Move(s)\n",
    "# sn.Print()\n",
    "# sn1 = Operate((2,4),(2,3)).Move(sn)\n",
    "# sn1.Print()\n",
    "# sn2 = Operate((1,0),(1,1)).Move(sn1)\n",
    "# sn2.Print()"
   ]
  },
  {
   "cell_type": "code",
   "execution_count": 3,
   "id": "48713296",
   "metadata": {},
   "outputs": [],
   "source": [
    "def isEndNode(s):\n",
    "    sz = s.N\n",
    "    data=s.data\n",
    "    result=[]# Mang de xem trong s co bao nhieu phan tu khac nhau\n",
    "    for i in range(sz):\n",
    "        for j in range(sz):\n",
    "            if data[i][j] not in result:result.append(data[i][j])\n",
    "            if len(result)==3:return False# Co du 3 thang thai thi chua phai la ket thuc\n",
    "    return True"
   ]
  },
  {
   "cell_type": "code",
   "execution_count": 4,
   "id": "6f6cad2a",
   "metadata": {},
   "outputs": [],
   "source": [
    "# s = State (data =np.array([[1, 1, 1, 1, 1],\n",
    "#  [1, 0, 0, 0, 1],\n",
    "#  [1, 0, 0, 0, 1],\n",
    "#  [1, 0, 0, 0, 1],\n",
    "#  [1, 1, 1, 1, 1]]))\n",
    "# s.Print()\n",
    "# print(isEndNode(s))"
   ]
  },
  {
   "cell_type": "code",
   "execution_count": 5,
   "id": "8f4b72f6",
   "metadata": {},
   "outputs": [],
   "source": [
    "def Win(s):\n",
    "    if s.data==None:return False\n",
    "    sz = s.N\n",
    "    data=s.data\n",
    "    result=[]# Mang de xem trong s co bao nhieu phan tu khac nhau\n",
    "    for i in range(sz):\n",
    "        for j in range(sz):\n",
    "            if data[i][j] not in result:result.append(data[i][j])\n",
    "            if len(result)==3:return False# Co du 3 thang thai thi chua phai la ket thuc\n",
    "    return True"
   ]
  },
  {
   "cell_type": "code",
   "execution_count": 6,
   "id": "a6b3a080",
   "metadata": {},
   "outputs": [],
   "source": [
    "checkmyturn = True\n",
    "def checkMyTurn(s):\n",
    "    global checkmyturn \n",
    "    if checkmyturn:\n",
    "        checkmyturn = False\n",
    "        return True\n",
    "    else:\n",
    "        checkmyturn = True\n",
    "        return False"
   ]
  },
  {
   "cell_type": "code",
   "execution_count": 12,
   "id": "a305c3a3",
   "metadata": {},
   "outputs": [],
   "source": [
    "def Value(s):\n",
    "    if Win(s):\n",
    "        if checkMyTurn(s):\n",
    "            return 1\n",
    "        return -1\n",
    "    return 0"
   ]
  },
  {
   "cell_type": "code",
   "execution_count": 15,
   "id": "ad9f9d2f",
   "metadata": {},
   "outputs": [],
   "source": [
    "def AlphaBeta(s,depth,a,b,mp):# mp: maximizingPlayer\n",
    "    if isEndNode(s) or d==0:return Values(s)\n",
    "    sz=s.N\n",
    "    data=s.data\n",
    "    if mp==True:\n",
    "        for i in range(sz):\n",
    "            for j in range(sz):\n",
    "                if datat[i][j]==1:\n",
    "                    if (i+j)%2==0:# di chuyen cheo duoc\n",
    "                        for m in range(i-1,i+2):\n",
    "                            for n in range(j-1,j+2):\n",
    "                                child = Operator((i,j),(m,n)).Move(s)\n",
    "                                if child ==None:\n",
    "                                    continue\n",
    "                                tmp = AlphaBeta(child,d-1,a,b,False)\n",
    "                                a = max(a,tmp)\n",
    "                                if a>=b:break\n",
    "                    else:# khong di chuyen cheo duoc\n",
    "                        for des in [(i-1,j),(i,j-1),(i,j+1),(i+1,j)]:\n",
    "                            child = Operator((i,j),des).Move(s)\n",
    "                            if child==None:continue\n",
    "                            tmp = AlphaBeta(child,d-1,a,b,False)\n",
    "                            a = max(a,tmp)\n",
    "                            if a>=b:break\n",
    "        return a\n",
    "    else:\n",
    "        for i in range(sz):\n",
    "            for j in range(sz):\n",
    "                if datat[i][j]==-1:\n",
    "                    if (i+j)%2==0:# di chuyen cheo duoc\n",
    "                        for m in range(i-1,i+2):\n",
    "                            for n in range(j-1,j+2):\n",
    "                                child = Operator((i,j),(m,n)).Move(s)\n",
    "                                if child ==None:\n",
    "                                    continue\n",
    "                                tmp = AlphaBeta(child,d-1,a,b,True)\n",
    "                                b = min(b,tmp)\n",
    "                                if a>=b:break\n",
    "                    else:# khong di chuyen cheo duoc\n",
    "                        for des in [(i-1,j),(i,j-1),(i,j+1),(i+1,j)]:\n",
    "                            child = Operator((i,j),des).Move(s)\n",
    "                            if child==None:continue\n",
    "                            tmp = AlphaBeta(child,d-1,a,b,True)\n",
    "                            b = min(b,tmp)\n",
    "                            if a>=b:break\n",
    "        return a"
   ]
  },
  {
   "cell_type": "code",
   "execution_count": 17,
   "id": "46a2eadd",
   "metadata": {},
   "outputs": [],
   "source": [
    "def MiniMax(s,d,mp):\n",
    "    pass"
   ]
  },
  {
   "cell_type": "code",
   "execution_count": null,
   "id": "19fcc586",
   "metadata": {},
   "outputs": [],
   "source": []
  }
 ],
 "metadata": {
  "kernelspec": {
   "display_name": "Python 3",
   "language": "python",
   "name": "python3"
  },
  "language_info": {
   "codemirror_mode": {
    "name": "ipython",
    "version": 3
   },
   "file_extension": ".py",
   "mimetype": "text/x-python",
   "name": "python",
   "nbconvert_exporter": "python",
   "pygments_lexer": "ipython3",
   "version": "3.9.4"
  }
 },
 "nbformat": 4,
 "nbformat_minor": 5
}
